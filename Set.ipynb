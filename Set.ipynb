{
 "cells": [
  {
   "cell_type": "markdown",
   "id": "b3eb2d84-34ec-4cb3-aa42-9c3c554a3943",
   "metadata": {},
   "source": [
    "#   SET\n"
   ]
  },
  {
   "cell_type": "code",
   "execution_count": 58,
   "id": "22afa684-02fc-42ec-a0ed-9927a84f0868",
   "metadata": {},
   "outputs": [
    {
     "data": {
      "text/plain": [
       "{}"
      ]
     },
     "execution_count": 58,
     "metadata": {},
     "output_type": "execute_result"
    }
   ],
   "source": [
    "s = { }\n",
    "s"
   ]
  },
  {
   "cell_type": "code",
   "execution_count": 59,
   "id": "2d599c4d-226a-4bab-8e22-920e14920273",
   "metadata": {},
   "outputs": [
    {
     "data": {
      "text/plain": [
       "dict"
      ]
     },
     "execution_count": 59,
     "metadata": {},
     "output_type": "execute_result"
    }
   ],
   "source": [
    "type(s)"
   ]
  },
  {
   "cell_type": "code",
   "execution_count": 64,
   "id": "d37cddcc-2628-4dad-9ac4-8ce2ae168093",
   "metadata": {},
   "outputs": [
    {
     "data": {
      "text/plain": [
       "set()"
      ]
     },
     "execution_count": 64,
     "metadata": {},
     "output_type": "execute_result"
    }
   ],
   "source": [
    "s1 = set()\n",
    "s1"
   ]
  },
  {
   "cell_type": "code",
   "execution_count": 65,
   "id": "27b774a0-c5eb-45f4-90ad-d766ed52cfac",
   "metadata": {},
   "outputs": [
    {
     "data": {
      "text/plain": [
       "set"
      ]
     },
     "execution_count": 65,
     "metadata": {},
     "output_type": "execute_result"
    }
   ],
   "source": [
    "type(s1)"
   ]
  },
  {
   "cell_type": "code",
   "execution_count": 67,
   "id": "ea4a046a-42a0-4625-9446-58ba32a24509",
   "metadata": {},
   "outputs": [
    {
     "data": {
      "text/plain": [
       "[]"
      ]
     },
     "execution_count": 67,
     "metadata": {},
     "output_type": "execute_result"
    }
   ],
   "source": [
    "l = []\n",
    "l"
   ]
  },
  {
   "cell_type": "code",
   "execution_count": 68,
   "id": "960ef557-9f48-443f-965c-35e501377742",
   "metadata": {},
   "outputs": [
    {
     "data": {
      "text/plain": [
       "list"
      ]
     },
     "execution_count": 68,
     "metadata": {},
     "output_type": "execute_result"
    }
   ],
   "source": [
    "type(l)"
   ]
  },
  {
   "cell_type": "code",
   "execution_count": 69,
   "id": "085e4a83-96fd-4849-88d7-6ca1a3590a72",
   "metadata": {},
   "outputs": [],
   "source": [
    "s1.add(10)\n",
    "s1.add(20)\n"
   ]
  },
  {
   "cell_type": "code",
   "execution_count": 70,
   "id": "0a590c28-52d7-42d1-b470-f991b0d45bf1",
   "metadata": {},
   "outputs": [
    {
     "data": {
      "text/plain": [
       "{10, 20}"
      ]
     },
     "execution_count": 70,
     "metadata": {},
     "output_type": "execute_result"
    }
   ],
   "source": [
    "s1"
   ]
  },
  {
   "cell_type": "code",
   "execution_count": 71,
   "id": "33acd9a8-6e4b-4019-99e2-64477f6aeb68",
   "metadata": {},
   "outputs": [
    {
     "ename": "TypeError",
     "evalue": "set.add() takes exactly one argument (2 given)",
     "output_type": "error",
     "traceback": [
      "\u001b[1;31m---------------------------------------------------------------------------\u001b[0m",
      "\u001b[1;31mTypeError\u001b[0m                                 Traceback (most recent call last)",
      "Cell \u001b[1;32mIn[71], line 1\u001b[0m\n\u001b[1;32m----> 1\u001b[0m s1\u001b[38;5;241m.\u001b[39madd(\u001b[38;5;241m20\u001b[39m,\u001b[38;5;241m30\u001b[39m)\n\u001b[0;32m      2\u001b[0m s1\n\u001b[0;32m      3\u001b[0m \u001b[38;5;28mprint\u001b[39m(s1)\n",
      "\u001b[1;31mTypeError\u001b[0m: set.add() takes exactly one argument (2 given)"
     ]
    }
   ],
   "source": [
    "s1.add(20,30)\n",
    "s1\n",
    "print(s1)"
   ]
  },
  {
   "cell_type": "code",
   "execution_count": 75,
   "id": "d5e4e0bd-4030-408c-9ef7-55fd115f3407",
   "metadata": {},
   "outputs": [
    {
     "data": {
      "text/plain": [
       "{10, 20, 30, 40, 50}"
      ]
     },
     "execution_count": 75,
     "metadata": {},
     "output_type": "execute_result"
    }
   ],
   "source": [
    "s1.add(30)\n",
    "s1.add(40)\n",
    "s1.add(50)\n",
    "s1\n"
   ]
  },
  {
   "cell_type": "code",
   "execution_count": 76,
   "id": "19047b7d-81cc-46c9-bb7b-52c4edac147d",
   "metadata": {},
   "outputs": [
    {
     "name": "stdout",
     "output_type": "stream",
     "text": [
      "{40, 10, 50, 20, 30}\n"
     ]
    }
   ],
   "source": [
    "print(s1)"
   ]
  },
  {
   "cell_type": "code",
   "execution_count": 77,
   "id": "befc2b72-cbbc-4bf4-b2db-5e136475ea6c",
   "metadata": {},
   "outputs": [
    {
     "data": {
      "text/plain": [
       "5"
      ]
     },
     "execution_count": 77,
     "metadata": {},
     "output_type": "execute_result"
    }
   ],
   "source": [
    "len(s1)"
   ]
  },
  {
   "cell_type": "code",
   "execution_count": 78,
   "id": "1d7b2549-1b6f-48b4-89b1-57508db1714c",
   "metadata": {},
   "outputs": [
    {
     "data": {
      "text/plain": [
       "{10, 20, 30, 40, 50}"
      ]
     },
     "execution_count": 78,
     "metadata": {},
     "output_type": "execute_result"
    }
   ],
   "source": [
    "#copy set to another\n",
    "s2 = s1.copy()\n",
    "s2"
   ]
  },
  {
   "cell_type": "code",
   "execution_count": 79,
   "id": "747858bb-4c1f-44ab-95bf-ce8f4142d8b3",
   "metadata": {},
   "outputs": [
    {
     "data": {
      "text/plain": [
       "True"
      ]
     },
     "execution_count": 79,
     "metadata": {},
     "output_type": "execute_result"
    }
   ],
   "source": [
    "s1==s2"
   ]
  },
  {
   "cell_type": "code",
   "execution_count": 80,
   "id": "53bc46ba-2ea6-43b8-bc97-64c2a8ff4844",
   "metadata": {},
   "outputs": [
    {
     "data": {
      "text/plain": [
       "{10, 20, 30, 40, 50, 60}"
      ]
     },
     "execution_count": 80,
     "metadata": {},
     "output_type": "execute_result"
    }
   ],
   "source": [
    "s2.add(60)\n",
    "s2"
   ]
  },
  {
   "cell_type": "code",
   "execution_count": 81,
   "id": "ce3aac86-55ca-4c67-a12c-90522bf64ca6",
   "metadata": {},
   "outputs": [
    {
     "data": {
      "text/plain": [
       "False"
      ]
     },
     "execution_count": 81,
     "metadata": {},
     "output_type": "execute_result"
    }
   ],
   "source": [
    "s1==s2"
   ]
  },
  {
   "cell_type": "code",
   "execution_count": 82,
   "id": "a73e2a97-344b-4a94-84f1-63200c4e37ec",
   "metadata": {},
   "outputs": [
    {
     "name": "stdout",
     "output_type": "stream",
     "text": [
      "{50, 20, 40, 10, 60, 30}\n"
     ]
    }
   ],
   "source": [
    "print(s2)"
   ]
  },
  {
   "cell_type": "code",
   "execution_count": 83,
   "id": "18533210-34ee-4531-a9da-fc366ae7ba7b",
   "metadata": {},
   "outputs": [
    {
     "data": {
      "text/plain": [
       "{10, 20, 30, 40, 50, 60}"
      ]
     },
     "execution_count": 83,
     "metadata": {},
     "output_type": "execute_result"
    }
   ],
   "source": [
    "s3 = s2.copy()\n",
    "s3"
   ]
  },
  {
   "cell_type": "code",
   "execution_count": 84,
   "id": "5a90d68c-702b-46b4-b302-7e58bf9dbaec",
   "metadata": {},
   "outputs": [
    {
     "name": "stdout",
     "output_type": "stream",
     "text": [
      "{80, 50, 20, 90, 40, 10, 60, 30}\n"
     ]
    }
   ],
   "source": [
    "s3.add(90)\n",
    "s3.add(20)\n",
    "s3.add(80)\n",
    "print(s3)"
   ]
  },
  {
   "cell_type": "code",
   "execution_count": 85,
   "id": "c10f2eb8-5b36-4396-8763-2eb8c6e026a7",
   "metadata": {},
   "outputs": [
    {
     "data": {
      "text/plain": [
       "{10, 20, 30, 40, 50, 60, 80, 90}"
      ]
     },
     "execution_count": 85,
     "metadata": {},
     "output_type": "execute_result"
    }
   ],
   "source": [
    "s3"
   ]
  },
  {
   "cell_type": "code",
   "execution_count": 86,
   "id": "fdf57494-5f46-4128-890d-7d0563280e4c",
   "metadata": {},
   "outputs": [
    {
     "name": "stdout",
     "output_type": "stream",
     "text": [
      "{80, 50, 20, 90, 40, 10, 60, 30}\n"
     ]
    }
   ],
   "source": [
    "print(s3)"
   ]
  },
  {
   "cell_type": "code",
   "execution_count": 87,
   "id": "ad143966-3fd6-4751-894e-22ea93128919",
   "metadata": {},
   "outputs": [
    {
     "ename": "TypeError",
     "evalue": "'set' object is not subscriptable",
     "output_type": "error",
     "traceback": [
      "\u001b[1;31m---------------------------------------------------------------------------\u001b[0m",
      "\u001b[1;31mTypeError\u001b[0m                                 Traceback (most recent call last)",
      "Cell \u001b[1;32mIn[87], line 1\u001b[0m\n\u001b[1;32m----> 1\u001b[0m s3[\u001b[38;5;241m0\u001b[39m]\n",
      "\u001b[1;31mTypeError\u001b[0m: 'set' object is not subscriptable"
     ]
    }
   ],
   "source": [
    "s3[0]"
   ]
  },
  {
   "cell_type": "code",
   "execution_count": 88,
   "id": "c88f2d84-6517-4692-99e6-71fbf2f65d2d",
   "metadata": {},
   "outputs": [],
   "source": [
    "s3.clear()"
   ]
  },
  {
   "cell_type": "code",
   "execution_count": 89,
   "id": "0ba4dd5c-6008-4e95-a186-e7091e8e43aa",
   "metadata": {},
   "outputs": [
    {
     "data": {
      "text/plain": [
       "set()"
      ]
     },
     "execution_count": 89,
     "metadata": {},
     "output_type": "execute_result"
    }
   ],
   "source": [
    "s3"
   ]
  },
  {
   "cell_type": "code",
   "execution_count": 90,
   "id": "eba8ccb8-27f7-4f62-a685-c28e9c32a565",
   "metadata": {},
   "outputs": [
    {
     "data": {
      "text/plain": [
       "False"
      ]
     },
     "execution_count": 90,
     "metadata": {},
     "output_type": "execute_result"
    }
   ],
   "source": [
    "s3==s2.copy()"
   ]
  },
  {
   "cell_type": "code",
   "execution_count": 91,
   "id": "5bc92649-6d95-4e91-ab9e-e91d1529d0ca",
   "metadata": {},
   "outputs": [],
   "source": [
    "s3= s2.copy()"
   ]
  },
  {
   "cell_type": "code",
   "execution_count": 92,
   "id": "40619f8e-e126-4f7d-ba4d-f8bf27191e3f",
   "metadata": {},
   "outputs": [
    {
     "data": {
      "text/plain": [
       "{10, 20, 30, 40, 50, 60}"
      ]
     },
     "execution_count": 92,
     "metadata": {},
     "output_type": "execute_result"
    }
   ],
   "source": [
    "s3"
   ]
  },
  {
   "cell_type": "code",
   "execution_count": 93,
   "id": "94010a7b-d19c-443e-bbce-8745e328e9b7",
   "metadata": {},
   "outputs": [],
   "source": [
    "s3.add(10)   #duplication values are not allowed"
   ]
  },
  {
   "cell_type": "code",
   "execution_count": 94,
   "id": "bba10191-5417-4de2-b6f0-4990708b7012",
   "metadata": {},
   "outputs": [
    {
     "data": {
      "text/plain": [
       "{10, 20, 30, 40, 50, 60}"
      ]
     },
     "execution_count": 94,
     "metadata": {},
     "output_type": "execute_result"
    }
   ],
   "source": [
    "s3"
   ]
  },
  {
   "cell_type": "code",
   "execution_count": 95,
   "id": "e56f353e-1f12-4bb2-b360-f4d84129c0d8",
   "metadata": {},
   "outputs": [
    {
     "ename": "TypeError",
     "evalue": "set.clear() takes no arguments (1 given)",
     "output_type": "error",
     "traceback": [
      "\u001b[1;31m---------------------------------------------------------------------------\u001b[0m",
      "\u001b[1;31mTypeError\u001b[0m                                 Traceback (most recent call last)",
      "Cell \u001b[1;32mIn[95], line 1\u001b[0m\n\u001b[1;32m----> 1\u001b[0m s3\u001b[38;5;241m.\u001b[39mclear(\u001b[38;5;241m10\u001b[39m)\n",
      "\u001b[1;31mTypeError\u001b[0m: set.clear() takes no arguments (1 given)"
     ]
    }
   ],
   "source": [
    "s3.clear(10)"
   ]
  },
  {
   "cell_type": "code",
   "execution_count": 96,
   "id": "46391dd7-f0aa-46bf-8032-1fd3c4cb22c1",
   "metadata": {},
   "outputs": [
    {
     "data": {
      "text/plain": [
       "{20, 30, 40, 50, 60}"
      ]
     },
     "execution_count": 96,
     "metadata": {},
     "output_type": "execute_result"
    }
   ],
   "source": [
    "s3.remove(10) \n",
    "s3"
   ]
  },
  {
   "cell_type": "code",
   "execution_count": 97,
   "id": "3d41a711-7bfd-49fe-ba6d-c5e7dfb77c0b",
   "metadata": {},
   "outputs": [
    {
     "name": "stdout",
     "output_type": "stream",
     "text": [
      "50\n",
      "20\n",
      "40\n",
      "60\n",
      "30\n"
     ]
    }
   ],
   "source": [
    "for i in s3:\n",
    "    print(i)"
   ]
  },
  {
   "cell_type": "code",
   "execution_count": 98,
   "id": "08bd3048-b188-4347-a4d0-12cca7172765",
   "metadata": {},
   "outputs": [
    {
     "name": "stdout",
     "output_type": "stream",
     "text": [
      "(0, 50)\n",
      "(1, 20)\n",
      "(2, 40)\n",
      "(3, 60)\n",
      "(4, 30)\n"
     ]
    }
   ],
   "source": [
    "for i in enumerate(s3):\n",
    "    print(i)\n",
    "    "
   ]
  },
  {
   "cell_type": "code",
   "execution_count": 99,
   "id": "29032d86-71e3-4f98-ae14-d3c60248f647",
   "metadata": {},
   "outputs": [
    {
     "name": "stdout",
     "output_type": "stream",
     "text": [
      "{'a', 'c', 'b'}\n",
      "{'e', 'c', 'd', 'b'}\n",
      "{'e', 'f', 'd'}\n"
     ]
    }
   ],
   "source": [
    "a = {'a','b','c'}\n",
    "b = {'b','c','d','e'}\n",
    "c = {'d','e','f'}\n",
    "print(a)\n",
    "print(b)\n",
    "print(c)"
   ]
  },
  {
   "cell_type": "code",
   "execution_count": 100,
   "id": "121daa42-0016-409c-aebd-6392b22cccf1",
   "metadata": {},
   "outputs": [
    {
     "data": {
      "text/plain": [
       "{'a', 'b', 'c', 'd', 'e'}"
      ]
     },
     "execution_count": 100,
     "metadata": {},
     "output_type": "execute_result"
    }
   ],
   "source": [
    "a.union(b)\n"
   ]
  },
  {
   "cell_type": "code",
   "execution_count": 101,
   "id": "95fe18cc-5881-4e91-a923-37142222c927",
   "metadata": {},
   "outputs": [
    {
     "data": {
      "text/plain": [
       "{'a', 'b', 'c', 'd', 'e'}"
      ]
     },
     "execution_count": 101,
     "metadata": {},
     "output_type": "execute_result"
    }
   ],
   "source": [
    "a | b    # union operator"
   ]
  },
  {
   "cell_type": "code",
   "execution_count": 102,
   "id": "ffe68afc-17ba-4861-898c-c38d1a4ee2c5",
   "metadata": {},
   "outputs": [
    {
     "data": {
      "text/plain": [
       "{'a', 'b', 'c', 'd', 'e', 'f'}"
      ]
     },
     "execution_count": 102,
     "metadata": {},
     "output_type": "execute_result"
    }
   ],
   "source": [
    "a | b | c"
   ]
  },
  {
   "cell_type": "code",
   "execution_count": 103,
   "id": "fc1ae6b3-6ed2-489e-9a2b-3f82229c0a45",
   "metadata": {},
   "outputs": [
    {
     "ename": "AttributeError",
     "evalue": "'set' object has no attribute 'defference'",
     "output_type": "error",
     "traceback": [
      "\u001b[1;31m---------------------------------------------------------------------------\u001b[0m",
      "\u001b[1;31mAttributeError\u001b[0m                            Traceback (most recent call last)",
      "Cell \u001b[1;32mIn[103], line 1\u001b[0m\n\u001b[1;32m----> 1\u001b[0m a\u001b[38;5;241m.\u001b[39mdefference(b)\n",
      "\u001b[1;31mAttributeError\u001b[0m: 'set' object has no attribute 'defference'"
     ]
    }
   ],
   "source": [
    "a.defference(b)"
   ]
  },
  {
   "cell_type": "code",
   "execution_count": 104,
   "id": "5c951de8-35b8-4b66-892d-7e9fe9faaa27",
   "metadata": {},
   "outputs": [
    {
     "data": {
      "text/plain": [
       "{'a'}"
      ]
     },
     "execution_count": 104,
     "metadata": {},
     "output_type": "execute_result"
    }
   ],
   "source": [
    "a.difference(b)    # prints the values of a witch are difference fron set b"
   ]
  },
  {
   "cell_type": "code",
   "execution_count": 105,
   "id": "432a52a8-508d-4c77-87ca-2448b8362aff",
   "metadata": {},
   "outputs": [
    {
     "data": {
      "text/plain": [
       "{'a', 'b', 'c'}"
      ]
     },
     "execution_count": 105,
     "metadata": {},
     "output_type": "execute_result"
    }
   ],
   "source": [
    "a.difference(c)   # prints the values of a witch are different from c set"
   ]
  },
  {
   "cell_type": "code",
   "execution_count": 109,
   "id": "0d5d2e52-f489-4125-8e72-e095fd61f487",
   "metadata": {},
   "outputs": [
    {
     "name": "stdout",
     "output_type": "stream",
     "text": [
      "a\n",
      "c\n",
      "b\n"
     ]
    }
   ],
   "source": [
    "for i in set(a):\n",
    "    print(i)"
   ]
  },
  {
   "cell_type": "code",
   "execution_count": 110,
   "id": "131ca1d9-6555-4686-aad0-9144ce48cc05",
   "metadata": {},
   "outputs": [
    {
     "name": "stdout",
     "output_type": "stream",
     "text": [
      "(0, 'a')\n",
      "(1, 'c')\n",
      "(2, 'b')\n"
     ]
    }
   ],
   "source": [
    "for i in enumerate(a):\n",
    "    print(i)\n",
    "    "
   ]
  },
  {
   "cell_type": "code",
   "execution_count": null,
   "id": "99d32349-3988-4cbf-a7ee-e05898028674",
   "metadata": {},
   "outputs": [],
   "source": []
  }
 ],
 "metadata": {
  "kernelspec": {
   "display_name": "Python [conda env:base] *",
   "language": "python",
   "name": "conda-base-py"
  },
  "language_info": {
   "codemirror_mode": {
    "name": "ipython",
    "version": 3
   },
   "file_extension": ".py",
   "mimetype": "text/x-python",
   "name": "python",
   "nbconvert_exporter": "python",
   "pygments_lexer": "ipython3",
   "version": "3.12.7"
  }
 },
 "nbformat": 4,
 "nbformat_minor": 5
}
