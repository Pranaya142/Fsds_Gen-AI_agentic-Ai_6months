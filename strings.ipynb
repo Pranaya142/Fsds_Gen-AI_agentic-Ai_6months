{
 "cells": [
  {
   "cell_type": "code",
   "execution_count": null,
   "id": "4266b373",
   "metadata": {},
   "outputs": [],
   "source": [
    "int(True)"
   ]
  },
  {
   "cell_type": "code",
   "execution_count": null,
   "id": "000fe39e",
   "metadata": {},
   "outputs": [],
   "source": [
    "int('3')"
   ]
  },
  {
   "cell_type": "code",
   "execution_count": null,
   "id": "c660dadb",
   "metadata": {},
   "outputs": [],
   "source": [
    "print(int(True))"
   ]
  },
  {
   "cell_type": "code",
   "execution_count": null,
   "id": "5f5a7684",
   "metadata": {},
   "outputs": [],
   "source": [
    "print(float(2))\n",
    "print(float('5'))"
   ]
  },
  {
   "cell_type": "code",
   "execution_count": null,
   "id": "a2ca43b8",
   "metadata": {},
   "outputs": [],
   "source": [
    "print(float('python'))"
   ]
  },
  {
   "cell_type": "code",
   "execution_count": null,
   "id": "5e9ffb8f",
   "metadata": {},
   "outputs": [],
   "source": [
    "complex(19)"
   ]
  },
  {
   "cell_type": "code",
   "execution_count": null,
   "id": "1462265d",
   "metadata": {},
   "outputs": [],
   "source": [
    "print(complex(20,30))"
   ]
  },
  {
   "cell_type": "code",
   "execution_count": null,
   "id": "a4b5b210",
   "metadata": {},
   "outputs": [],
   "source": [
    "print(complex(2.3,3.5))\n",
    "print(complex('1'))"
   ]
  },
  {
   "cell_type": "code",
   "execution_count": null,
   "id": "19610bb6",
   "metadata": {},
   "outputs": [],
   "source": [
    "print(bool(1.1))\n",
    "print(bool(1+2j))\n",
    "print(bool(True))"
   ]
  },
  {
   "cell_type": "code",
   "execution_count": null,
   "id": "c8bf9eae",
   "metadata": {},
   "outputs": [],
   "source": [
    "print(bool(0))"
   ]
  },
  {
   "cell_type": "code",
   "execution_count": null,
   "id": "79ac3ca5",
   "metadata": {},
   "outputs": [],
   "source": [
    "print(str(2))\n",
    "print(str(2.2))\n",
    "print(str(2+5j))"
   ]
  },
  {
   "cell_type": "code",
   "execution_count": null,
   "id": "02155078",
   "metadata": {},
   "outputs": [],
   "source": [
    "str(True)"
   ]
  },
  {
   "cell_type": "code",
   "execution_count": null,
   "id": "f729e622",
   "metadata": {},
   "outputs": [],
   "source": [
    "complex(20,30,40)"
   ]
  },
  {
   "cell_type": "code",
   "execution_count": null,
   "id": "eb9a70c1",
   "metadata": {},
   "outputs": [],
   "source": [
    "complex(True)"
   ]
  },
  {
   "cell_type": "code",
   "execution_count": null,
   "id": "1d6be6c6",
   "metadata": {},
   "outputs": [
    {
     "data": {
      "text/plain": [
       "False"
      ]
     },
     "execution_count": 1,
     "metadata": {},
     "output_type": "execute_result"
    }
   ],
   "source": [
    "bool(False)"
   ]
  },
  {
   "cell_type": "code",
   "execution_count": null,
   "id": "d955b7c8",
   "metadata": {},
   "outputs": [
    {
     "name": "stdout",
     "output_type": "stream",
     "text": [
      "True\n",
      "True\n",
      "False\n",
      "True\n",
      "False\n",
      "True\n",
      "9\n",
      "5\n",
      "False\n"
     ]
    }
   ],
   "source": [
    "print(3>2)\n",
    "print(3==3)\n",
    "print(3<2)\n",
    "print(4<=6)\n",
    "print(4>=7)\n",
    "print(4!=7)\n",
    "print(len('jackfruit'))\n",
    "print(len('mango'))\n",
    "print(len('jackfruit')== len('mango'))\n"
   ]
  },
  {
   "cell_type": "code",
   "execution_count": null,
   "id": "a33c23fc",
   "metadata": {},
   "outputs": [
    {
     "name": "stdout",
     "output_type": "stream",
     "text": [
      "125.60000000000001\n"
     ]
    }
   ],
   "source": [
    "r = 20\n",
    "circle_area = 3.14 * r * 2\n",
    "print(circle_area)"
   ]
  },
  {
   "cell_type": "code",
   "execution_count": null,
   "id": "0b3f4fcf",
   "metadata": {},
   "outputs": [
    {
     "name": "stdout",
     "output_type": "stream",
     "text": [
      "125.60000000000001\n"
     ]
    }
   ],
   "source": [
    "print((circle_area))"
   ]
  },
  {
   "cell_type": "code",
   "execution_count": null,
   "id": "ce1b49bc",
   "metadata": {},
   "outputs": [
    {
     "name": "stdout",
     "output_type": "stream",
     "text": [
      "251.20000000000002\n"
     ]
    }
   ],
   "source": [
    "surphase_circle = 4 * 3.14* r\n",
    "print(surphase_circle)"
   ]
  },
  {
   "cell_type": "code",
   "execution_count": null,
   "id": "3392690f",
   "metadata": {},
   "outputs": [],
   "source": []
  }
 ],
 "metadata": {
  "kernelspec": {
   "display_name": "base",
   "language": "python",
   "name": "python3"
  },
  "language_info": {
   "codemirror_mode": {
    "name": "ipython",
    "version": 3
   },
   "file_extension": ".py",
   "mimetype": "text/x-python",
   "name": "python",
   "nbconvert_exporter": "python",
   "pygments_lexer": "ipython3",
   "version": "3.12.7"
  }
 },
 "nbformat": 4,
 "nbformat_minor": 5
}
