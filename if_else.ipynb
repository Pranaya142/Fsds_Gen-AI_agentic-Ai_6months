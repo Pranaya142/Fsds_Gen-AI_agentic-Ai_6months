{
 "cells": [
  {
   "cell_type": "code",
   "execution_count": 4,
   "id": "8598867a-662f-4c68-88c1-2282cb5536d8",
   "metadata": {},
   "outputs": [
    {
     "name": "stdout",
     "output_type": "stream",
     "text": [
      "i is greater\n"
     ]
    }
   ],
   "source": [
    "i = 30\n",
    "if( i < 20):\n",
    "   print(i)\n",
    "else:\n",
    "   print( 'i is greater')\n"
   ]
  },
  {
   "cell_type": "code",
   "execution_count": 12,
   "id": "ba373d70-632a-44c6-8e27-c3eb680b8464",
   "metadata": {},
   "outputs": [],
   "source": [
    "i=3\n",
    "if( i >0):\n",
    "    i*1\n",
    "    i=+i\n",
    "else:\n",
    "    print('i is not valid')"
   ]
  },
  {
   "cell_type": "code",
   "execution_count": null,
   "id": "c74a45a4-e2b3-48a5-926e-0ca36f983a2c",
   "metadata": {},
   "outputs": [],
   "source": []
  },
  {
   "cell_type": "code",
   "execution_count": null,
   "id": "bd7e458b-509f-4672-bf0f-d9fc30365f5d",
   "metadata": {},
   "outputs": [],
   "source": []
  },
  {
   "cell_type": "code",
   "execution_count": null,
   "id": "015d6bab-e15e-44a4-a49a-89a64d59e2e0",
   "metadata": {},
   "outputs": [],
   "source": []
  }
 ],
 "metadata": {
  "kernelspec": {
   "display_name": "Python [conda env:base] *",
   "language": "python",
   "name": "conda-base-py"
  },
  "language_info": {
   "codemirror_mode": {
    "name": "ipython",
    "version": 3
   },
   "file_extension": ".py",
   "mimetype": "text/x-python",
   "name": "python",
   "nbconvert_exporter": "python",
   "pygments_lexer": "ipython3",
   "version": "3.12.7"
  }
 },
 "nbformat": 4,
 "nbformat_minor": 5
}
