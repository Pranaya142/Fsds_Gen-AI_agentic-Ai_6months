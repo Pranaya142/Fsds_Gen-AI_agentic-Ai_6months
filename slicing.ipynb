{
 "cells": [
  {
   "cell_type": "code",
   "execution_count": 1,
   "id": "162ae8bd-ce67-4104-8077-cc447c395c27",
   "metadata": {},
   "outputs": [],
   "source": [
    "v = 'welcome to first project'\n"
   ]
  },
  {
   "cell_type": "code",
   "execution_count": 2,
   "id": "38a2d4f0-55c0-44ab-acc1-7550401f6f63",
   "metadata": {},
   "outputs": [
    {
     "data": {
      "text/plain": [
       "'welcome to first project'"
      ]
     },
     "execution_count": 2,
     "metadata": {},
     "output_type": "execute_result"
    }
   ],
   "source": [
    "v"
   ]
  },
  {
   "cell_type": "code",
   "execution_count": 3,
   "id": "176a77b8-870d-40d2-99dd-d8c5e5cf432b",
   "metadata": {},
   "outputs": [
    {
     "data": {
      "text/plain": [
       "'t'"
      ]
     },
     "execution_count": 3,
     "metadata": {},
     "output_type": "execute_result"
    }
   ],
   "source": [
    "v[8]"
   ]
  },
  {
   "cell_type": "code",
   "execution_count": 11,
   "id": "c4a37cad-5efa-4a59-9c0e-fdeb24b04cb1",
   "metadata": {},
   "outputs": [
    {
     "data": {
      "text/plain": [
       "'this is my first programm'"
      ]
     },
     "execution_count": 11,
     "metadata": {},
     "output_type": "execute_result"
    }
   ],
   "source": [
    "s = 'this is '\n",
    "v = 'my first programm'\n",
    "s\n",
    "s + v"
   ]
  },
  {
   "cell_type": "code",
   "execution_count": 12,
   "id": "8d2fa8e9-6868-48b2-8883-d5882ec62fe9",
   "metadata": {},
   "outputs": [
    {
     "name": "stdout",
     "output_type": "stream",
     "text": [
      "this is  \n",
      "my first programm\n"
     ]
    }
   ],
   "source": [
    "print(s +' \\n'  + v)"
   ]
  },
  {
   "cell_type": "code",
   "execution_count": 15,
   "id": "37486743-f361-4dc6-aecb-4884cf845fe2",
   "metadata": {},
   "outputs": [
    {
     "data": {
      "text/plain": [
       "'this is    my first programm'"
      ]
     },
     "execution_count": 15,
     "metadata": {},
     "output_type": "execute_result"
    }
   ],
   "source": [
    "s + \"   \" + v"
   ]
  },
  {
   "cell_type": "code",
   "execution_count": 16,
   "id": "ef5a2907-54c3-4e2e-a977-d9da734a7c3a",
   "metadata": {},
   "outputs": [
    {
     "data": {
      "text/plain": [
       "'this is my first programm'"
      ]
     },
     "execution_count": 16,
     "metadata": {},
     "output_type": "execute_result"
    }
   ],
   "source": [
    "s + v\n"
   ]
  },
  {
   "cell_type": "code",
   "execution_count": 17,
   "id": "88a28f33-0663-4615-b223-cd5385013f3f",
   "metadata": {},
   "outputs": [
    {
     "data": {
      "text/plain": [
       "'this is '"
      ]
     },
     "execution_count": 17,
     "metadata": {},
     "output_type": "execute_result"
    }
   ],
   "source": [
    "s"
   ]
  },
  {
   "cell_type": "code",
   "execution_count": 13,
   "id": "6243a0f9-2f69-46b6-88f2-7c742fe039c6",
   "metadata": {},
   "outputs": [
    {
     "data": {
      "text/plain": [
       "'{\"dataframes\": [], \"user\": \"komme\"}'"
      ]
     },
     "execution_count": 13,
     "metadata": {},
     "output_type": "execute_result"
    }
   ],
   "source": [
    "_"
   ]
  },
  {
   "cell_type": "code",
   "execution_count": 18,
   "id": "6c5d7c4c-c18e-49de-938b-c81470b87d7c",
   "metadata": {},
   "outputs": [
    {
     "name": "stdout",
     "output_type": "stream",
     "text": [
      "t\n"
     ]
    }
   ],
   "source": [
    "print(s[0])"
   ]
  },
  {
   "cell_type": "code",
   "execution_count": 19,
   "id": "d9cd313c-a31b-4fea-8a68-443aa5c788e6",
   "metadata": {},
   "outputs": [
    {
     "data": {
      "text/plain": [
       "'his is '"
      ]
     },
     "execution_count": 19,
     "metadata": {},
     "output_type": "execute_result"
    }
   ],
   "source": [
    "s[1:]"
   ]
  },
  {
   "cell_type": "code",
   "execution_count": 20,
   "id": "6c1900da-d7bc-4d2a-8609-825976c5fdb8",
   "metadata": {},
   "outputs": [
    {
     "data": {
      "text/plain": [
       "'is '"
      ]
     },
     "execution_count": 20,
     "metadata": {},
     "output_type": "execute_result"
    }
   ],
   "source": [
    "s[-3:]"
   ]
  },
  {
   "cell_type": "code",
   "execution_count": 21,
   "id": "96e07b21-f16c-4994-8d55-c8dac4c85d5a",
   "metadata": {},
   "outputs": [
    {
     "data": {
      "text/plain": [
       "''"
      ]
     },
     "execution_count": 21,
     "metadata": {},
     "output_type": "execute_result"
    }
   ],
   "source": [
    "s[-1:-9]"
   ]
  },
  {
   "cell_type": "code",
   "execution_count": 24,
   "id": "4c3d86b1-d0e9-4029-8370-1305e04c48d4",
   "metadata": {},
   "outputs": [
    {
     "data": {
      "text/plain": [
       "'s '"
      ]
     },
     "execution_count": 24,
     "metadata": {},
     "output_type": "execute_result"
    }
   ],
   "source": [
    "s[-2:]"
   ]
  },
  {
   "cell_type": "code",
   "execution_count": 25,
   "id": "5875af66-6c1d-42a0-af9f-73c7088cd272",
   "metadata": {},
   "outputs": [
    {
     "data": {
      "text/plain": [
       "''"
      ]
     },
     "execution_count": 25,
     "metadata": {},
     "output_type": "execute_result"
    }
   ],
   "source": [
    "s[-1:-8]"
   ]
  },
  {
   "cell_type": "code",
   "execution_count": 26,
   "id": "70258e6e-0367-4de8-89e6-536b814bb23c",
   "metadata": {},
   "outputs": [
    {
     "data": {
      "text/plain": [
       "''"
      ]
     },
     "execution_count": 26,
     "metadata": {},
     "output_type": "execute_result"
    }
   ],
   "source": [
    "s[-1:0]"
   ]
  },
  {
   "cell_type": "code",
   "execution_count": 27,
   "id": "e6f1877d-f866-4016-bc10-b8b5bb792f92",
   "metadata": {},
   "outputs": [
    {
     "data": {
      "text/plain": [
       "' '"
      ]
     },
     "execution_count": 27,
     "metadata": {},
     "output_type": "execute_result"
    }
   ],
   "source": [
    "s[-1:]"
   ]
  },
  {
   "cell_type": "code",
   "execution_count": 28,
   "id": "d95bca4f-6565-4dee-a5f5-ba747c165243",
   "metadata": {},
   "outputs": [
    {
     "data": {
      "text/plain": [
       "'s '"
      ]
     },
     "execution_count": 28,
     "metadata": {},
     "output_type": "execute_result"
    }
   ],
   "source": [
    "s[-2:]"
   ]
  },
  {
   "cell_type": "code",
   "execution_count": 29,
   "id": "1104d831-c005-4353-8db7-c06aef6e825d",
   "metadata": {},
   "outputs": [
    {
     "data": {
      "text/plain": [
       "'is '"
      ]
     },
     "execution_count": 29,
     "metadata": {},
     "output_type": "execute_result"
    }
   ],
   "source": [
    "s[-3:]"
   ]
  },
  {
   "cell_type": "code",
   "execution_count": 30,
   "id": "e818dfa8-a886-4d3d-9395-a250c5a1bf83",
   "metadata": {},
   "outputs": [
    {
     "data": {
      "text/plain": [
       "' is '"
      ]
     },
     "execution_count": 30,
     "metadata": {},
     "output_type": "execute_result"
    }
   ],
   "source": [
    "s[-4:]"
   ]
  },
  {
   "cell_type": "code",
   "execution_count": 31,
   "id": "91a90477-cec5-4da3-8637-20533ca48c93",
   "metadata": {},
   "outputs": [
    {
     "data": {
      "text/plain": [
       "'s is '"
      ]
     },
     "execution_count": 31,
     "metadata": {},
     "output_type": "execute_result"
    }
   ],
   "source": [
    "s[-5:]"
   ]
  },
  {
   "cell_type": "code",
   "execution_count": 32,
   "id": "1d6514cd-e1b6-443a-8dcf-c1d878d2f2c3",
   "metadata": {},
   "outputs": [
    {
     "data": {
      "text/plain": [
       "'this is '"
      ]
     },
     "execution_count": 32,
     "metadata": {},
     "output_type": "execute_result"
    }
   ],
   "source": [
    "s[-8:]"
   ]
  },
  {
   "cell_type": "code",
   "execution_count": 33,
   "id": "58311570-bf9c-469b-b4c0-f8e7a84b1bd5",
   "metadata": {},
   "outputs": [
    {
     "data": {
      "text/plain": [
       "''"
      ]
     },
     "execution_count": 33,
     "metadata": {},
     "output_type": "execute_result"
    }
   ],
   "source": [
    "s[-2:-5]"
   ]
  },
  {
   "cell_type": "code",
   "execution_count": 34,
   "id": "64aac261-6269-4a8f-8349-4ab1bbe117e4",
   "metadata": {},
   "outputs": [
    {
     "data": {
      "text/plain": [
       "'this is'"
      ]
     },
     "execution_count": 34,
     "metadata": {},
     "output_type": "execute_result"
    }
   ],
   "source": [
    "s[:-1]"
   ]
  },
  {
   "cell_type": "code",
   "execution_count": 35,
   "id": "c6e46471-5467-4b67-b321-c4abb974bf6e",
   "metadata": {},
   "outputs": [
    {
     "data": {
      "text/plain": [
       "' si siht'"
      ]
     },
     "execution_count": 35,
     "metadata": {},
     "output_type": "execute_result"
    }
   ],
   "source": [
    "s[::-1]"
   ]
  },
  {
   "cell_type": "code",
   "execution_count": 36,
   "id": "01e146ce-3b92-4e3e-81cf-99e90ce049a9",
   "metadata": {},
   "outputs": [
    {
     "data": {
      "text/plain": [
       "'hsi '"
      ]
     },
     "execution_count": 36,
     "metadata": {},
     "output_type": "execute_result"
    }
   ],
   "source": [
    "s[1:8:2]"
   ]
  },
  {
   "cell_type": "code",
   "execution_count": 37,
   "id": "251e8707-1e06-4a06-8c69-fc3b9870d5b4",
   "metadata": {},
   "outputs": [
    {
     "data": {
      "text/plain": [
       "'this is '"
      ]
     },
     "execution_count": 37,
     "metadata": {},
     "output_type": "execute_result"
    }
   ],
   "source": [
    "s"
   ]
  },
  {
   "cell_type": "code",
   "execution_count": 38,
   "id": "3713004c-ab1b-43f5-bc8f-0deb848e0371",
   "metadata": {},
   "outputs": [
    {
     "data": {
      "text/plain": [
       "'hsi '"
      ]
     },
     "execution_count": 38,
     "metadata": {},
     "output_type": "execute_result"
    }
   ],
   "source": [
    "s[1:8:2]"
   ]
  },
  {
   "cell_type": "code",
   "execution_count": null,
   "id": "8c7ff04e-f988-4df2-8a02-cc56a3ee1920",
   "metadata": {},
   "outputs": [],
   "source": []
  }
 ],
 "metadata": {
  "kernelspec": {
   "display_name": "Python [conda env:base] *",
   "language": "python",
   "name": "conda-base-py"
  },
  "language_info": {
   "codemirror_mode": {
    "name": "ipython",
    "version": 3
   },
   "file_extension": ".py",
   "mimetype": "text/x-python",
   "name": "python",
   "nbconvert_exporter": "python",
   "pygments_lexer": "ipython3",
   "version": "3.12.7"
  }
 },
 "nbformat": 4,
 "nbformat_minor": 5
}
